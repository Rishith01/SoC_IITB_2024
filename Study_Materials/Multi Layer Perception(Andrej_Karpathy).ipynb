{
 "cells": [
  {
   "cell_type": "code",
   "execution_count": 1,
   "id": "c616c93c-c018-4959-ad75-4d183498bd49",
   "metadata": {},
   "outputs": [],
   "source": [
    "import torch\n",
    "import torch.nn.functional as F\n",
    "import matplotlib.pyplot as plt #for making figures\n",
    "%matplotlib inline"
   ]
  },
  {
   "cell_type": "code",
   "execution_count": 2,
   "id": "2b6f4383-5923-47f4-8124-8db19679716f",
   "metadata": {},
   "outputs": [
    {
     "data": {
      "text/plain": [
       "['emma', 'olivia', 'ava', 'isabella', 'sophia', 'charlotte', 'mia', 'amelia']"
      ]
     },
     "execution_count": 2,
     "metadata": {},
     "output_type": "execute_result"
    }
   ],
   "source": [
    "#read in all the words\n",
    "words = open('names.txt','r').read().splitlines()\n",
    "words[:8]"
   ]
  },
  {
   "cell_type": "code",
   "execution_count": 3,
   "id": "329fed7e-f75c-455e-a0e6-aaf5459df81e",
   "metadata": {},
   "outputs": [
    {
     "data": {
      "text/plain": [
       "32033"
      ]
     },
     "execution_count": 3,
     "metadata": {},
     "output_type": "execute_result"
    }
   ],
   "source": [
    "len(words)"
   ]
  },
  {
   "cell_type": "code",
   "execution_count": 4,
   "id": "cf714aa6-d675-4921-aac1-ac21c45b9a32",
   "metadata": {},
   "outputs": [
    {
     "name": "stdout",
     "output_type": "stream",
     "text": [
      "{1: 'a', 2: 'b', 3: 'c', 4: 'd', 5: 'e', 6: 'f', 7: 'g', 8: 'h', 9: 'i', 10: 'j', 11: 'k', 12: 'l', 13: 'm', 14: 'n', 15: 'o', 16: 'p', 17: 'q', 18: 'r', 19: 's', 20: 't', 21: 'u', 22: 'v', 23: 'w', 24: 'x', 25: 'y', 26: 'z', 0: '.'}\n"
     ]
    }
   ],
   "source": [
    "#builds the vocabulary of chcarcters and mapping to/from integers\n",
    "chars = sorted(list(set(''.join(words))))\n",
    "stoi = {s : i + 1 for i,s in enumerate(chars)}\n",
    "stoi['.'] = 0\n",
    "itos = {i : s for s, i in stoi.items()}\n",
    "print(itos)"
   ]
  },
  {
   "cell_type": "code",
   "execution_count": 5,
   "id": "51e9b511-deb1-4f64-b415-129aa2385acd",
   "metadata": {},
   "outputs": [],
   "source": [
    "#build the dataset\n",
    "block_size = 3 #context length : how many characters do we take to predict the next one\n",
    "X, Y = [], []\n",
    "for w in words:\n",
    "    #print(w)\n",
    "    context = [0] * block_size \n",
    "    for ch in w + '.':\n",
    "        ix = stoi[ch]\n",
    "        X.append(context)\n",
    "        Y.append(ix)\n",
    "        #print(''.join(itos[i] for i in context), '--->', itos[ix])\n",
    "        context = context[1: ] + [ix] # crop and append\n",
    "X = torch.tensor(X)\n",
    "Y = torch.tensor(Y)"
   ]
  },
  {
   "cell_type": "code",
   "execution_count": 6,
   "id": "9525829e-e84d-4324-8626-1a3dfe8beacb",
   "metadata": {},
   "outputs": [
    {
     "data": {
      "text/plain": [
       "(torch.Size([228146, 3]), torch.int64, torch.Size([228146]), torch.int64)"
      ]
     },
     "execution_count": 6,
     "metadata": {},
     "output_type": "execute_result"
    }
   ],
   "source": [
    "X.shape, X.dtype, Y.shape, Y.dtype"
   ]
  },
  {
   "cell_type": "code",
   "execution_count": 7,
   "id": "317bf8f3-a617-4923-92a8-184edeaa5efe",
   "metadata": {},
   "outputs": [],
   "source": [
    "C = torch.randn((27,2)) #This creates 2D vector space for the 27 characters which will be placed as embeddings in this space\n",
    "# C is equavalent to the lookup table"
   ]
  },
  {
   "cell_type": "code",
   "execution_count": 8,
   "id": "41a74a48-b30d-46a8-b63a-02ff620dbc1f",
   "metadata": {},
   "outputs": [
    {
     "data": {
      "text/plain": [
       "tensor([0.0997, 0.6454])"
      ]
     },
     "execution_count": 8,
     "metadata": {},
     "output_type": "execute_result"
    }
   ],
   "source": [
    "C[5]"
   ]
  },
  {
   "cell_type": "code",
   "execution_count": 9,
   "id": "0281d69e-9eb5-4132-b335-2345fb99dfea",
   "metadata": {},
   "outputs": [
    {
     "data": {
      "text/plain": [
       "torch.Size([228146, 3, 2])"
      ]
     },
     "execution_count": 9,
     "metadata": {},
     "output_type": "execute_result"
    }
   ],
   "source": [
    "C[X].shape #pytorch allows access rows by taking input as lists or tensors, accessing each elementwise"
   ]
  },
  {
   "cell_type": "code",
   "execution_count": 10,
   "id": "1187df88-ed22-4fcc-b296-0dd59e4db834",
   "metadata": {},
   "outputs": [
    {
     "data": {
      "text/plain": [
       "tensor(1)"
      ]
     },
     "execution_count": 10,
     "metadata": {},
     "output_type": "execute_result"
    }
   ],
   "source": [
    "X[13,2]"
   ]
  },
  {
   "cell_type": "code",
   "execution_count": 11,
   "id": "c380909e-852a-41bd-82b5-95b03dece2c1",
   "metadata": {},
   "outputs": [
    {
     "data": {
      "text/plain": [
       "tensor([-0.7682, -0.5974])"
      ]
     },
     "execution_count": 11,
     "metadata": {},
     "output_type": "execute_result"
    }
   ],
   "source": [
    "C[X][13,2]"
   ]
  },
  {
   "cell_type": "code",
   "execution_count": 12,
   "id": "3d6647b9-64b3-4760-be9f-5fffc25d1241",
   "metadata": {},
   "outputs": [
    {
     "data": {
      "text/plain": [
       "torch.Size([228146, 3, 2])"
      ]
     },
     "execution_count": 12,
     "metadata": {},
     "output_type": "execute_result"
    }
   ],
   "source": [
    "emb = C[X]\n",
    "emb.shape"
   ]
  },
  {
   "cell_type": "code",
   "execution_count": 13,
   "id": "33367018-674e-46b9-9396-4203cf9c4260",
   "metadata": {},
   "outputs": [],
   "source": [
    "W1 = torch.randn((6,100)) # We want 100 neurons and 6 is due to the number of embeddings(3 here) * dimension of embeddings(2 here)\n",
    "b1 = torch.randn(100)"
   ]
  },
  {
   "cell_type": "code",
   "execution_count": 14,
   "id": "4f33540f-5d5d-4144-9fc4-f33f7aee8394",
   "metadata": {},
   "outputs": [],
   "source": [
    "h = torch.tanh(emb.view(emb.shape[0],6) @ W1 + b1)"
   ]
  },
  {
   "cell_type": "code",
   "execution_count": 15,
   "id": "a612ccc7-b954-4b08-b2ae-296874c8c565",
   "metadata": {},
   "outputs": [],
   "source": [
    "#torch.cat(torch.unbind(emb,1), 1).shape ##The unbind causes the emb to loose it 1st dimension and forms a tuple in sequence\n",
    "##The cat joins these sequence along the 1st dimension. There is much more efficient method called view to implement the same thing"
   ]
  },
  {
   "cell_type": "code",
   "execution_count": 16,
   "id": "330e860f-d603-4d17-ba11-1271a706b3d0",
   "metadata": {},
   "outputs": [
    {
     "data": {
      "text/plain": [
       "torch.Size([228146, 100])"
      ]
     },
     "execution_count": 16,
     "metadata": {},
     "output_type": "execute_result"
    }
   ],
   "source": [
    "h.shape"
   ]
  },
  {
   "cell_type": "code",
   "execution_count": 17,
   "id": "f56c1420-f0dc-4073-b3d2-55c9903085fc",
   "metadata": {},
   "outputs": [],
   "source": [
    "W2 = torch.randn((100,27)) \n",
    "b2 = torch.randn(27)"
   ]
  },
  {
   "cell_type": "code",
   "execution_count": 18,
   "id": "99a2b269-8a9f-4c9b-bbd3-717c157ea1b7",
   "metadata": {},
   "outputs": [],
   "source": [
    "logits = h @ W2 + b2"
   ]
  },
  {
   "cell_type": "code",
   "execution_count": 19,
   "id": "391eb83c-aed2-4b19-87ef-e3c420a26fa9",
   "metadata": {},
   "outputs": [
    {
     "data": {
      "text/plain": [
       "torch.Size([228146, 27])"
      ]
     },
     "execution_count": 19,
     "metadata": {},
     "output_type": "execute_result"
    }
   ],
   "source": [
    "logits.shape"
   ]
  },
  {
   "cell_type": "code",
   "execution_count": 20,
   "id": "ae7c75d7-2d71-4c13-8a89-abe4d7a72d64",
   "metadata": {
    "scrolled": true
   },
   "outputs": [
    {
     "data": {
      "text/plain": [
       "tensor([[  0.4981,   4.4862, -12.6550,  ...,   2.7744,  -4.8114,  12.0029],\n",
       "        [ -4.5095,  13.2803,  -3.1996,  ...,  10.5333,  -3.6946,  12.3787],\n",
       "        [-12.8585,  -9.3241,  -4.2974,  ...,   4.5161,  -4.7671,  17.8719],\n",
       "        ...,\n",
       "        [-11.2671,  15.9413, -13.4422,  ...,  -1.6386,  -8.5617,  12.0793],\n",
       "        [ -6.5282,  -7.6314, -15.4345,  ..., -11.1230, -13.6770,   7.1216],\n",
       "        [ -4.4916,  -2.3810, -15.4959,  ...,   0.6231,  -9.8125,   5.6068]])"
      ]
     },
     "execution_count": 20,
     "metadata": {},
     "output_type": "execute_result"
    }
   ],
   "source": [
    "logits"
   ]
  },
  {
   "cell_type": "code",
   "execution_count": 21,
   "id": "68cc5228-5278-48bb-94ae-7e2db948c581",
   "metadata": {},
   "outputs": [],
   "source": [
    "counts = logits.exp()"
   ]
  },
  {
   "cell_type": "code",
   "execution_count": 22,
   "id": "daccd855-6f5f-4420-a3ee-5b3778dd6cdd",
   "metadata": {},
   "outputs": [],
   "source": [
    "prob = counts / counts.sum(axis = 1, keepdims = True)"
   ]
  },
  {
   "cell_type": "code",
   "execution_count": 23,
   "id": "88584cb1-0744-45e9-ba06-8b4c65a173aa",
   "metadata": {},
   "outputs": [
    {
     "data": {
      "text/plain": [
       "torch.Size([228146, 27])"
      ]
     },
     "execution_count": 23,
     "metadata": {},
     "output_type": "execute_result"
    }
   ],
   "source": [
    "prob.shape"
   ]
  },
  {
   "cell_type": "code",
   "execution_count": 24,
   "id": "a231942a-f7ed-49e6-9bea-2d2782fe538e",
   "metadata": {},
   "outputs": [
    {
     "ename": "IndexError",
     "evalue": "shape mismatch: indexing tensors could not be broadcast together with shapes [32], [228146]",
     "output_type": "error",
     "traceback": [
      "\u001b[1;31m---------------------------------------------------------------------------\u001b[0m",
      "\u001b[1;31mIndexError\u001b[0m                                Traceback (most recent call last)",
      "Cell \u001b[1;32mIn[24], line 1\u001b[0m\n\u001b[1;32m----> 1\u001b[0m loss \u001b[38;5;241m=\u001b[39m \u001b[38;5;241m-\u001b[39m\u001b[43mprob\u001b[49m\u001b[43m[\u001b[49m\u001b[43mtorch\u001b[49m\u001b[38;5;241;43m.\u001b[39;49m\u001b[43marange\u001b[49m\u001b[43m(\u001b[49m\u001b[38;5;241;43m32\u001b[39;49m\u001b[43m)\u001b[49m\u001b[43m,\u001b[49m\u001b[43m \u001b[49m\u001b[43mY\u001b[49m\u001b[43m]\u001b[49m\u001b[38;5;241m.\u001b[39mlog()\u001b[38;5;241m.\u001b[39mmean() \u001b[38;5;66;03m#accessing the probabilities due to the network for the actual next character\u001b[39;00m\n\u001b[0;32m      2\u001b[0m loss\n",
      "\u001b[1;31mIndexError\u001b[0m: shape mismatch: indexing tensors could not be broadcast together with shapes [32], [228146]"
     ]
    }
   ],
   "source": [
    "loss = -prob[torch.arange(32), Y].log().mean() #accessing the probabilities due to the network for the actual next character\n",
    "loss"
   ]
  },
  {
   "cell_type": "markdown",
   "id": "a93e21ce-9e97-401d-9f05-3bc049a497cb",
   "metadata": {},
   "source": [
    "#### Proper implementation"
   ]
  },
  {
   "cell_type": "code",
   "execution_count": 25,
   "id": "118610fc-c172-4e11-a10d-8d3af1e5b7a6",
   "metadata": {},
   "outputs": [
    {
     "data": {
      "text/plain": [
       "(torch.Size([228146, 3]), torch.Size([228146]))"
      ]
     },
     "execution_count": 25,
     "metadata": {},
     "output_type": "execute_result"
    }
   ],
   "source": [
    "X.shape, Y.shape"
   ]
  },
  {
   "cell_type": "code",
   "execution_count": 26,
   "id": "44baacb9-0dd2-477e-8174-9903743c868c",
   "metadata": {},
   "outputs": [],
   "source": [
    "g = torch.Generator().manual_seed(2147483647)\n",
    "C = torch.randn(27, 2, generator = g)\n",
    "W1 = torch.rand(6, 100, generator = g)\n",
    "b1 = torch.rand(100, generator = g)\n",
    "W2 = torch.rand(100, 27, generator = g)\n",
    "b2 = torch.rand(27, generator = g)\n",
    "parameters = [C, W1, b1, W2, b2]"
   ]
  },
  {
   "cell_type": "code",
   "execution_count": 27,
   "id": "88fe0eea-4911-4194-a60c-b09e92295482",
   "metadata": {},
   "outputs": [
    {
     "data": {
      "text/plain": [
       "3481"
      ]
     },
     "execution_count": 27,
     "metadata": {},
     "output_type": "execute_result"
    }
   ],
   "source": [
    "sum(p.nelement() for p in parameters) #total number of parameters"
   ]
  },
  {
   "cell_type": "code",
   "execution_count": 28,
   "id": "658a6f14-9f98-4db1-b76f-9aa5b4a2696b",
   "metadata": {},
   "outputs": [],
   "source": [
    "for p in parameters:\n",
    "    p.requires_grad = True"
   ]
  },
  {
   "cell_type": "code",
   "execution_count": 29,
   "id": "597879ff-fab9-4343-bf0b-9ba417d5d0cd",
   "metadata": {},
   "outputs": [],
   "source": [
    "lre = torch.linspace(-3, 0, 1000) #This helps in determining a good learning rate\n",
    "lrs = 10 ** lre #This creates a list of 1000 learning rates from 10^-3 to 10^0."
   ]
  },
  {
   "cell_type": "code",
   "execution_count": 30,
   "id": "0d5cec69-8c46-45f8-ac5b-e3c83f532b24",
   "metadata": {},
   "outputs": [
    {
     "name": "stdout",
     "output_type": "stream",
     "text": [
      "2.4199507236480713\n"
     ]
    }
   ],
   "source": [
    "lri, lossi = [], []\n",
    "for i in range(10000):\n",
    "    \n",
    "    # minibatch construct\n",
    "    ix = torch.randint(0, X.shape[0],(32,)) # This creates batches of 32 selected randomly \n",
    "    \n",
    "    # forward pass\n",
    "    emb = C[X[ix]] #(32,3,2)\n",
    "    h = torch.tanh(emb.view(-1,6) @ W1 + b1)\n",
    "    logits = h @ W2 + b2\n",
    "    # count = logits.exp()\n",
    "    # prob = count / count.sum(axis = 1, keepdims = True)\n",
    "    # loss = -prob[torch.arange(32), Y].log().mean()\n",
    "    loss = F.cross_entropy(logits, Y[ix]) #This makes both forward and backward pass more efficient and makes number behave better\n",
    "    \n",
    "    \n",
    "    # backward pass\n",
    "    for p in parameters:\n",
    "        p.grad = None\n",
    "    loss.backward()\n",
    "    \n",
    "    #update\n",
    "    for p in parameters:\n",
    "        p.data += -0.01*p.grad\n",
    "        \n",
    "    #track stats\n",
    "    #lri.append(lre[i])\n",
    "    #lossi.append(loss.item())\n",
    "    \n",
    "print(loss.item())"
   ]
  },
  {
   "cell_type": "code",
   "execution_count": 75,
   "id": "565b3be6-f4a5-459f-b408-5220ffd44dc9",
   "metadata": {},
   "outputs": [
    {
     "data": {
      "text/plain": [
       "[<matplotlib.lines.Line2D at 0x1703872fa60>]"
      ]
     },
     "execution_count": 75,
     "metadata": {},
     "output_type": "execute_result"
    },
    {
     "data": {
      "image/png": "[encoded data removed]",
      "text/plain": [
       "<Figure size 640x480 with 1 Axes>"
      ]
     },
     "metadata": {},
     "output_type": "display_data"
    }
   ],
   "source": [
    "plt.plot(lri, lossi)"
   ]
  },
  {
   "cell_type": "markdown",
   "id": "f67ead4d-0cd2-4c05-b740-f2cd1aadba71",
   "metadata": {},
   "source": [
    "## Using the splitting of data into 3 sets"
   ]
  },
  {
   "cell_type": "code",
   "execution_count": 31,
   "id": "e8f94079-a7f8-4c1f-92f0-91d8a2cee68f",
   "metadata": {},
   "outputs": [
    {
     "name": "stdout",
     "output_type": "stream",
     "text": [
      "torch.Size([182625, 2]) torch.Size([182625])\n",
      "torch.Size([22655, 2]) torch.Size([22655])\n",
      "torch.Size([22866, 2]) torch.Size([22866])\n"
     ]
    }
   ],
   "source": [
    "#build the dataset\n",
    "def build_dataset(words):\n",
    "    block_size = 2 #context length : how many characters do we take to predict the next one\n",
    "    X, Y = [], []\n",
    "    for w in words:\n",
    "        #print(w)\n",
    "        context = [0] * block_size \n",
    "        for ch in w + '.':\n",
    "            ix = stoi[ch]\n",
    "            X.append(context)\n",
    "            Y.append(ix)\n",
    "            #print(''.join(itos[i] for i in context), '--->', itos[ix])\n",
    "            context = context[1: ] + [ix] # crop and append\n",
    "    X = torch.tensor(X)\n",
    "    Y = torch.tensor(Y)\n",
    "    print(X.shape, Y.shape)\n",
    "    return X, Y\n",
    "\n",
    "import random\n",
    "random.seed(42)\n",
    "random.shuffle(words)\n",
    "n1 = int(0.8 * len(words))\n",
    "n2 = int(0.9 * len(words))\n",
    "Xtr, Ytr = build_dataset(words[:n1])\n",
    "Xdev, Ydev = build_dataset(words[n1: n2])\n",
    "Xte, Yte = build_dataset(words[n2:])"
   ]
  },
  {
   "cell_type": "code",
   "execution_count": 32,
   "id": "0b20d15c-b4a2-43f5-b3be-62c5225e2f00",
   "metadata": {},
   "outputs": [],
   "source": [
    "C = torch.randn((27,2))"
   ]
  },
  {
   "cell_type": "code",
   "execution_count": 33,
   "id": "d621aa75-5420-4330-afec-7cae3bbdef65",
   "metadata": {},
   "outputs": [
    {
     "data": {
      "text/plain": [
       "(torch.Size([182625, 2]), torch.Size([182625]))"
      ]
     },
     "execution_count": 33,
     "metadata": {},
     "output_type": "execute_result"
    }
   ],
   "source": [
    "Xtr.shape, Ytr.shape"
   ]
  },
  {
   "cell_type": "code",
   "execution_count": 34,
   "id": "8a1dea04-53aa-478a-87b4-daeb4521e73e",
   "metadata": {},
   "outputs": [],
   "source": [
    "g = torch.Generator().manual_seed(2147483647)\n",
    "C = torch.randn(27, 10, generator = g)\n",
    "W1 = torch.rand(30, 200, generator = g)\n",
    "b1 = torch.rand(200, generator = g)\n",
    "W2 = torch.rand(200, 27, generator = g)\n",
    "b2 = torch.rand(27, generator = g)\n",
    "parameters = [C, W1, b1, W2, b2]"
   ]
  },
  {
   "cell_type": "code",
   "execution_count": 35,
   "id": "13a06509-875d-4e5e-b63e-a76196725ae7",
   "metadata": {},
   "outputs": [],
   "source": [
    "sum(p.nelement() for p in parameters) \n",
    "for p in parameters:\n",
    "    p.requires_grad = True\n",
    "lre = torch.linspace(-3, 0, 1000) #This helps in determining a good learning rate\n",
    "lrs = 10 ** lre #This creates a list of 1000 learning rates from 10^-3 to 10^0."
   ]
  },
  {
   "cell_type": "code",
   "execution_count": 36,
   "id": "2d670ceb-8fe0-42c5-8095-0b5e83a9a27c",
   "metadata": {},
   "outputs": [
    {
     "name": "stdout",
     "output_type": "stream",
     "text": [
      "2.8793089389801025\n"
     ]
    }
   ],
   "source": [
    "lri, lossi = [], []\n",
    "stepi = []\n",
    "for i in range(200000):\n",
    "    \n",
    "    # minibatch construct\n",
    "    ix = torch.randint(0, Xtr.shape[0],(32,)) # This creates batches of 32 selected randomly \n",
    "    \n",
    "    # forward pass\n",
    "    emb = C[X[ix]] #(32,3,2)\n",
    "    h = torch.tanh(emb.view(-1,30) @ W1 + b1)\n",
    "    logits = h @ W2 + b2\n",
    "    # count = logits.exp()\n",
    "    # prob = count / count.sum(axis = 1, keepdims = True)\n",
    "    # loss = -prob[torch.arange(32), Y].log().mean()\n",
    "    loss = F.cross_entropy(logits, Ytr[ix]) #This makes both forward and backward pass more efficient and makes number behave better\n",
    "    \n",
    "    \n",
    "    # backward pass\n",
    "    for p in parameters:\n",
    "        p.grad = None\n",
    "    loss.backward()\n",
    "    \n",
    "    #update\n",
    "    for p in parameters:\n",
    "        p.data += -0.001*p.grad\n",
    "        \n",
    "    #track stats\n",
    "    #lri.append(lre[i])\n",
    "    stepi.append(i)\n",
    "    lossi.append(loss.log10().item())\n",
    "    \n",
    "print(loss.item())"
   ]
  },
  {
   "cell_type": "code",
   "execution_count": 164,
   "id": "bdfd0b5c-a37f-4d3b-924f-ce856bc58589",
   "metadata": {},
   "outputs": [
    {
     "data": {
      "text/plain": [
       "[<matplotlib.lines.Line2D at 0x17047ee2e20>]"
      ]
     },
     "execution_count": 164,
     "metadata": {},
     "output_type": "execute_result"
    },
    {
     "data": {
      "image/png": "[encoded data removed]",
      "text/plain": [
       "<Figure size 640x480 with 1 Axes>"
      ]
     },
     "metadata": {},
     "output_type": "display_data"
    }
   ],
   "source": [
    "plt.plot(stepi, lossi)"
   ]
  },
  {
   "cell_type": "code",
   "execution_count": 166,
   "id": "029d76a7-7616-4978-be7a-992805229a64",
   "metadata": {},
   "outputs": [
    {
     "data": {
      "text/plain": [
       "tensor(2.8245, grad_fn=<NllLossBackward0>)"
      ]
     },
     "execution_count": 166,
     "metadata": {},
     "output_type": "execute_result"
    }
   ],
   "source": [
    "emb = C[Xdev]\n",
    "h = torch.tanh(emb.view(emb.shape[0],30) @ W1 + b1)\n",
    "logits = h @ W2 + b2\n",
    "loss = F.cross_entropy(logits, Ydev)\n",
    "loss"
   ]
  },
  {
   "cell_type": "code",
   "execution_count": 148,
   "id": "8c9041b8-130f-4448-8666-7be03444c5b8",
   "metadata": {},
   "outputs": [
    {
     "data": {
      "image/png": "[encoded data removed]",
      "text/plain": [
       "<Figure size 800x800 with 1 Axes>"
      ]
     },
     "metadata": {},
     "output_type": "display_data"
    }
   ],
   "source": [
    "plt.figure(figsize = (8,8))\n",
    "plt.scatter(C[:, 0].data, C[:, 1].data, s = 200)\n",
    "for i in range(C.shape[0]):\n",
    "    plt.text(C[i,0].item(), C[i,1].item(), itos[i], ha = 'center', va = 'center', color = 'white')\n",
    "plt.grid('minor')"
   ]
  },
  {
   "cell_type": "code",
   "execution_count": 174,
   "id": "caf5bde5-1c1b-44dd-bc36-df724025c080",
   "metadata": {},
   "outputs": [
    {
     "name": "stdout",
     "output_type": "stream",
     "text": [
      "narmahxaao.\n",
      "hlvihkimrs.\n",
      "reaty.\n",
      "hncassnejr.\n",
      "hnenfamesahc.\n",
      "iaeei.\n",
      ".\n",
      "e.\n",
      "maia.\n",
      "ceaiivde.\n",
      "lein.\n",
      "h.\n",
      ".\n",
      "m.\n",
      ".\n",
      "oin.\n",
      "eeijn.\n",
      "s.\n",
      "lilea.\n",
      ".\n"
     ]
    }
   ],
   "source": [
    "#sample generated from code\n",
    "g = torch.Generator().manual_seed(2147483647 + 10)\n",
    "for _ in range(20):\n",
    "    out = []\n",
    "    context = [0] * block_size\n",
    "    while True:\n",
    "        emb = C[torch.tensor([context])] # (1,block_size,d)\n",
    "        h = torch.tanh(emb.view(1,-1) @ W1 + b1)\n",
    "        logits = h @ W2 + b2\n",
    "        probs = F.softmax(logits, dim = 1)\n",
    "        ix = torch.multinomial(probs, num_samples = 1, generator = g).item()\n",
    "        context = context[1: ] + [ix]\n",
    "        out.append(ix)\n",
    "        if ix == 0:\n",
    "            break\n",
    "    print(''.join(itos[i] for i in out))\n"
   ]
  },
  {
   "cell_type": "code",
   "execution_count": null,
   "id": "917bc1ea-379e-4804-8d4b-bdf03a77296f",
   "metadata": {},
   "outputs": [],
   "source": []
  }
 ],
 "metadata": {
  "kernelspec": {
   "display_name": "Python 3 (ipykernel)",
   "language": "python",
   "name": "python3"
  },
  "language_info": {
   "codemirror_mode": {
    "name": "ipython",
    "version": 3
   },
   "file_extension": ".py",
   "mimetype": "text/x-python",
   "name": "python",
   "nbconvert_exporter": "python",
   "pygments_lexer": "ipython3",
   "version": "3.8.0"
  }
 },
 "nbformat": 4,
 "nbformat_minor": 5
}
